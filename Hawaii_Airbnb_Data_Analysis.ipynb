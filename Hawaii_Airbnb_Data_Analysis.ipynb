{
 "cells": [
  {
   "cell_type": "markdown",
   "id": "6842a705",
   "metadata": {},
   "source": [
    "# Hawaii Airbnb Data Analysis"
   ]
  },
  {
   "cell_type": "markdown",
   "id": "e2ffe331",
   "metadata": {},
   "source": [
    "Mission statement \n",
    "\n",
    "If someone wanted to run an Air B&B in Hawaii, here's somethings they might want to consider...\n",
    "\n",
    "Reason for topic of choice\n",
    "\n",
    "Large amount of Data to work with, allowing for the use of many different programs we’ve learned along the way.\n",
    "\n",
    "Description of source of Data\n",
    "\n",
    "Inside Airbnb: Get the Data http://insideairbnb.com/get-the-data\n",
    "    \n",
    "Data Storage\n",
    "\n",
    "SQL\n",
    "\n",
    "Questions\n",
    "\n",
    "* Which neighborhood are the most popular, profitable and have more renters?\n",
    "* Which room type is the most popular type?\n",
    "* What are the most important characteristics of listing to attract more customers and influence the price?\n",
    "* What time during a year is the busiest?\n",
    "* Is there a \"peak\" season?\n",
    "* What time should property maintenance be done?\n",
    "* Does weather play a factor in desirability?"
   ]
  },
  {
   "cell_type": "code",
   "execution_count": 52,
   "id": "107fd6da",
   "metadata": {},
   "outputs": [],
   "source": [
    "# Import our dependencies\n",
    "import os\n",
    "import pandas as pd\n",
    "import numpy as np\n",
    "import matplotlib.pyplot as plt\n",
    "from datetime import datetime\n",
    "import warnings\n",
    "warnings.filterwarnings('ignore')\n",
    "from pathlib import Path\n",
    "from sklearn.preprocessing import LabelEncoder\n",
    "from sklearn.linear_model import LinearRegression"
   ]
  },
  {
   "cell_type": "code",
   "execution_count": 53,
   "id": "5228f549",
   "metadata": {},
   "outputs": [
    {
     "data": {
      "text/html": [
       "<div>\n",
       "<style scoped>\n",
       "    .dataframe tbody tr th:only-of-type {\n",
       "        vertical-align: middle;\n",
       "    }\n",
       "\n",
       "    .dataframe tbody tr th {\n",
       "        vertical-align: top;\n",
       "    }\n",
       "\n",
       "    .dataframe thead th {\n",
       "        text-align: right;\n",
       "    }\n",
       "</style>\n",
       "<table border=\"1\" class=\"dataframe\">\n",
       "  <thead>\n",
       "    <tr style=\"text-align: right;\">\n",
       "      <th></th>\n",
       "      <th>id</th>\n",
       "      <th>neighbourhood_cleansed</th>\n",
       "      <th>latitude</th>\n",
       "      <th>longitude</th>\n",
       "      <th>room_type</th>\n",
       "      <th>amenities</th>\n",
       "      <th>price</th>\n",
       "      <th>availability_365</th>\n",
       "      <th>number_of_reviews</th>\n",
       "      <th>review_scores_rating</th>\n",
       "      <th>review_scores_location</th>\n",
       "    </tr>\n",
       "  </thead>\n",
       "  <tbody>\n",
       "    <tr>\n",
       "      <th>0</th>\n",
       "      <td>5.269000e+03</td>\n",
       "      <td>South Kohala</td>\n",
       "      <td>20.027400</td>\n",
       "      <td>-155.702000</td>\n",
       "      <td>Entire home/apt</td>\n",
       "      <td>[\"Dedicated workspace\", \"Hot water\", \"Fire ext...</td>\n",
       "      <td>$140.00</td>\n",
       "      <td>121</td>\n",
       "      <td>19</td>\n",
       "      <td>4.56</td>\n",
       "      <td>5.00</td>\n",
       "    </tr>\n",
       "    <tr>\n",
       "      <th>1</th>\n",
       "      <td>1.571410e+05</td>\n",
       "      <td>Koolauloa</td>\n",
       "      <td>21.589890</td>\n",
       "      <td>-157.891540</td>\n",
       "      <td>Entire home/apt</td>\n",
       "      <td>[\"Hot water\", \"Fire extinguisher\", \"Lockbox\", ...</td>\n",
       "      <td>$130.00</td>\n",
       "      <td>0</td>\n",
       "      <td>335</td>\n",
       "      <td>4.54</td>\n",
       "      <td>4.66</td>\n",
       "    </tr>\n",
       "    <tr>\n",
       "      <th>2</th>\n",
       "      <td>1.626000e+05</td>\n",
       "      <td>Kapaa-Wailua</td>\n",
       "      <td>22.061740</td>\n",
       "      <td>-159.320520</td>\n",
       "      <td>Entire home/apt</td>\n",
       "      <td>[\"Microwave\", \"Dryer\", \"Free parking on premis...</td>\n",
       "      <td>$557.00</td>\n",
       "      <td>107</td>\n",
       "      <td>19</td>\n",
       "      <td>4.95</td>\n",
       "      <td>5.00</td>\n",
       "    </tr>\n",
       "    <tr>\n",
       "      <th>3</th>\n",
       "      <td>6.204230e+17</td>\n",
       "      <td>Koolauloa</td>\n",
       "      <td>21.604002</td>\n",
       "      <td>-157.895791</td>\n",
       "      <td>Entire home/apt</td>\n",
       "      <td>[\"TV\", \"Air conditioning\", \"Fire extinguisher\"...</td>\n",
       "      <td>$355.00</td>\n",
       "      <td>301</td>\n",
       "      <td>0</td>\n",
       "      <td>NaN</td>\n",
       "      <td>NaN</td>\n",
       "    </tr>\n",
       "    <tr>\n",
       "      <th>4</th>\n",
       "      <td>3.423510e+05</td>\n",
       "      <td>South Kona</td>\n",
       "      <td>19.450730</td>\n",
       "      <td>-155.872810</td>\n",
       "      <td>Entire home/apt</td>\n",
       "      <td>[\"Building staff\", \"Stove\", \"Hot water\", \"Refr...</td>\n",
       "      <td>$109.00</td>\n",
       "      <td>234</td>\n",
       "      <td>98</td>\n",
       "      <td>4.82</td>\n",
       "      <td>4.94</td>\n",
       "    </tr>\n",
       "  </tbody>\n",
       "</table>\n",
       "</div>"
      ],
      "text/plain": [
       "             id neighbourhood_cleansed   latitude   longitude  \\\n",
       "0  5.269000e+03           South Kohala  20.027400 -155.702000   \n",
       "1  1.571410e+05              Koolauloa  21.589890 -157.891540   \n",
       "2  1.626000e+05           Kapaa-Wailua  22.061740 -159.320520   \n",
       "3  6.204230e+17              Koolauloa  21.604002 -157.895791   \n",
       "4  3.423510e+05             South Kona  19.450730 -155.872810   \n",
       "\n",
       "         room_type                                          amenities  \\\n",
       "0  Entire home/apt  [\"Dedicated workspace\", \"Hot water\", \"Fire ext...   \n",
       "1  Entire home/apt  [\"Hot water\", \"Fire extinguisher\", \"Lockbox\", ...   \n",
       "2  Entire home/apt  [\"Microwave\", \"Dryer\", \"Free parking on premis...   \n",
       "3  Entire home/apt  [\"TV\", \"Air conditioning\", \"Fire extinguisher\"...   \n",
       "4  Entire home/apt  [\"Building staff\", \"Stove\", \"Hot water\", \"Refr...   \n",
       "\n",
       "      price  availability_365  number_of_reviews  review_scores_rating  \\\n",
       "0  $140.00                121                 19                  4.56   \n",
       "1  $130.00                  0                335                  4.54   \n",
       "2  $557.00                107                 19                  4.95   \n",
       "3  $355.00                301                  0                   NaN   \n",
       "4  $109.00                234                 98                  4.82   \n",
       "\n",
       "   review_scores_location  \n",
       "0                    5.00  \n",
       "1                    4.66  \n",
       "2                    5.00  \n",
       "3                     NaN  \n",
       "4                    4.94  "
      ]
     },
     "execution_count": 53,
     "metadata": {},
     "output_type": "execute_result"
    }
   ],
   "source": [
    "# Columns that we need \n",
    "columns = [\"id\", \"neighbourhood_cleansed\", \"latitude\", \"longitude\", \"room_type\", \"price\",\n",
    "           \"review_scores_location\",\"amenities\", \"number_of_reviews\",\"review_scores_rating\",\"availability_365\"] \n",
    "# Read the csv dile\n",
    "hawaii_df = pd.read_csv('listings.csv', usecols=columns)\n",
    "hawaii_df.head(5)"
   ]
  },
  {
   "cell_type": "code",
   "execution_count": 54,
   "id": "d8f5254a",
   "metadata": {},
   "outputs": [
    {
     "data": {
      "text/plain": [
       "(26345, 11)"
      ]
     },
     "execution_count": 54,
     "metadata": {},
     "output_type": "execute_result"
    }
   ],
   "source": [
    "hawaii_df.shape"
   ]
  },
  {
   "cell_type": "code",
   "execution_count": 55,
   "id": "eff2b7d8",
   "metadata": {},
   "outputs": [
    {
     "data": {
      "text/plain": [
       "id                        float64\n",
       "neighbourhood_cleansed     object\n",
       "latitude                  float64\n",
       "longitude                 float64\n",
       "room_type                  object\n",
       "amenities                  object\n",
       "price                      object\n",
       "availability_365            int64\n",
       "number_of_reviews           int64\n",
       "review_scores_rating      float64\n",
       "review_scores_location    float64\n",
       "dtype: object"
      ]
     },
     "execution_count": 55,
     "metadata": {},
     "output_type": "execute_result"
    }
   ],
   "source": [
    "hawaii_df.dtypes"
   ]
  },
  {
   "cell_type": "code",
   "execution_count": 56,
   "id": "a3574fbb",
   "metadata": {},
   "outputs": [
    {
     "name": "stdout",
     "output_type": "stream",
     "text": [
      "<class 'pandas.core.frame.DataFrame'>\n",
      "RangeIndex: 26345 entries, 0 to 26344\n",
      "Data columns (total 11 columns):\n",
      " #   Column                  Non-Null Count  Dtype  \n",
      "---  ------                  --------------  -----  \n",
      " 0   id                      26345 non-null  float64\n",
      " 1   neighbourhood_cleansed  26345 non-null  object \n",
      " 2   latitude                26345 non-null  float64\n",
      " 3   longitude               26345 non-null  float64\n",
      " 4   room_type               26345 non-null  object \n",
      " 5   amenities               26345 non-null  object \n",
      " 6   price                   26345 non-null  object \n",
      " 7   availability_365        26345 non-null  int64  \n",
      " 8   number_of_reviews       26345 non-null  int64  \n",
      " 9   review_scores_rating    21675 non-null  float64\n",
      " 10  review_scores_location  21607 non-null  float64\n",
      "dtypes: float64(5), int64(2), object(4)\n",
      "memory usage: 2.2+ MB\n"
     ]
    }
   ],
   "source": [
    "hawaii_df.info()"
   ]
  },
  {
   "cell_type": "code",
   "execution_count": 57,
   "id": "9e5c2096",
   "metadata": {},
   "outputs": [
    {
     "data": {
      "text/html": [
       "<div>\n",
       "<style scoped>\n",
       "    .dataframe tbody tr th:only-of-type {\n",
       "        vertical-align: middle;\n",
       "    }\n",
       "\n",
       "    .dataframe tbody tr th {\n",
       "        vertical-align: top;\n",
       "    }\n",
       "\n",
       "    .dataframe thead th {\n",
       "        text-align: right;\n",
       "    }\n",
       "</style>\n",
       "<table border=\"1\" class=\"dataframe\">\n",
       "  <thead>\n",
       "    <tr style=\"text-align: right;\">\n",
       "      <th></th>\n",
       "      <th>id</th>\n",
       "      <th>latitude</th>\n",
       "      <th>longitude</th>\n",
       "      <th>availability_365</th>\n",
       "      <th>number_of_reviews</th>\n",
       "      <th>review_scores_rating</th>\n",
       "      <th>review_scores_location</th>\n",
       "    </tr>\n",
       "  </thead>\n",
       "  <tbody>\n",
       "    <tr>\n",
       "      <th>count</th>\n",
       "      <td>2.634500e+04</td>\n",
       "      <td>26345.000000</td>\n",
       "      <td>26345.000000</td>\n",
       "      <td>26345.000000</td>\n",
       "      <td>26345.00000</td>\n",
       "      <td>21675.000000</td>\n",
       "      <td>21607.000000</td>\n",
       "    </tr>\n",
       "    <tr>\n",
       "      <th>mean</th>\n",
       "      <td>6.983362e+16</td>\n",
       "      <td>20.901550</td>\n",
       "      <td>-157.172162</td>\n",
       "      <td>177.870829</td>\n",
       "      <td>32.18402</td>\n",
       "      <td>4.749550</td>\n",
       "      <td>4.868784</td>\n",
       "    </tr>\n",
       "    <tr>\n",
       "      <th>std</th>\n",
       "      <td>1.911340e+17</td>\n",
       "      <td>0.792978</td>\n",
       "      <td>1.253721</td>\n",
       "      <td>111.791203</td>\n",
       "      <td>58.22463</td>\n",
       "      <td>0.409436</td>\n",
       "      <td>0.252785</td>\n",
       "    </tr>\n",
       "    <tr>\n",
       "      <th>min</th>\n",
       "      <td>5.269000e+03</td>\n",
       "      <td>18.920250</td>\n",
       "      <td>-159.714620</td>\n",
       "      <td>0.000000</td>\n",
       "      <td>0.00000</td>\n",
       "      <td>0.000000</td>\n",
       "      <td>1.000000</td>\n",
       "    </tr>\n",
       "    <tr>\n",
       "      <th>25%</th>\n",
       "      <td>2.255211e+07</td>\n",
       "      <td>20.698353</td>\n",
       "      <td>-157.838220</td>\n",
       "      <td>85.000000</td>\n",
       "      <td>1.00000</td>\n",
       "      <td>4.670000</td>\n",
       "      <td>4.830000</td>\n",
       "    </tr>\n",
       "    <tr>\n",
       "      <th>50%</th>\n",
       "      <td>4.129243e+07</td>\n",
       "      <td>20.959080</td>\n",
       "      <td>-156.690120</td>\n",
       "      <td>180.000000</td>\n",
       "      <td>9.00000</td>\n",
       "      <td>4.860000</td>\n",
       "      <td>4.940000</td>\n",
       "    </tr>\n",
       "    <tr>\n",
       "      <th>75%</th>\n",
       "      <td>5.114058e+07</td>\n",
       "      <td>21.291230</td>\n",
       "      <td>-156.437270</td>\n",
       "      <td>272.000000</td>\n",
       "      <td>36.00000</td>\n",
       "      <td>5.000000</td>\n",
       "      <td>5.000000</td>\n",
       "    </tr>\n",
       "    <tr>\n",
       "      <th>max</th>\n",
       "      <td>6.442410e+17</td>\n",
       "      <td>22.229380</td>\n",
       "      <td>-154.822930</td>\n",
       "      <td>365.000000</td>\n",
       "      <td>971.00000</td>\n",
       "      <td>5.000000</td>\n",
       "      <td>5.000000</td>\n",
       "    </tr>\n",
       "  </tbody>\n",
       "</table>\n",
       "</div>"
      ],
      "text/plain": [
       "                 id      latitude     longitude  availability_365  \\\n",
       "count  2.634500e+04  26345.000000  26345.000000      26345.000000   \n",
       "mean   6.983362e+16     20.901550   -157.172162        177.870829   \n",
       "std    1.911340e+17      0.792978      1.253721        111.791203   \n",
       "min    5.269000e+03     18.920250   -159.714620          0.000000   \n",
       "25%    2.255211e+07     20.698353   -157.838220         85.000000   \n",
       "50%    4.129243e+07     20.959080   -156.690120        180.000000   \n",
       "75%    5.114058e+07     21.291230   -156.437270        272.000000   \n",
       "max    6.442410e+17     22.229380   -154.822930        365.000000   \n",
       "\n",
       "       number_of_reviews  review_scores_rating  review_scores_location  \n",
       "count        26345.00000          21675.000000            21607.000000  \n",
       "mean            32.18402              4.749550                4.868784  \n",
       "std             58.22463              0.409436                0.252785  \n",
       "min              0.00000              0.000000                1.000000  \n",
       "25%              1.00000              4.670000                4.830000  \n",
       "50%              9.00000              4.860000                4.940000  \n",
       "75%             36.00000              5.000000                5.000000  \n",
       "max            971.00000              5.000000                5.000000  "
      ]
     },
     "execution_count": 57,
     "metadata": {},
     "output_type": "execute_result"
    }
   ],
   "source": [
    "hawaii_df.describe()"
   ]
  },
  {
   "cell_type": "code",
   "execution_count": 58,
   "id": "0c3b1f47",
   "metadata": {},
   "outputs": [],
   "source": [
    "hawaii_df.drop_duplicates(inplace=True)"
   ]
  },
  {
   "cell_type": "markdown",
   "id": "88cdb207",
   "metadata": {},
   "source": [
    "## Clean the data"
   ]
  },
  {
   "cell_type": "markdown",
   "id": "99716206",
   "metadata": {},
   "source": [
    "Handle missing data"
   ]
  },
  {
   "cell_type": "code",
   "execution_count": 59,
   "id": "72c100c4",
   "metadata": {},
   "outputs": [
    {
     "data": {
      "text/plain": [
       "id                           0\n",
       "neighbourhood_cleansed       0\n",
       "latitude                     0\n",
       "longitude                    0\n",
       "room_type                    0\n",
       "amenities                    0\n",
       "price                        0\n",
       "availability_365             0\n",
       "number_of_reviews            0\n",
       "review_scores_rating      4670\n",
       "review_scores_location    4738\n",
       "dtype: int64"
      ]
     },
     "execution_count": 59,
     "metadata": {},
     "output_type": "execute_result"
    }
   ],
   "source": [
    "# Determine if there are any missing values in the data.\n",
    "hawaii_df.isnull().sum()"
   ]
  },
  {
   "cell_type": "code",
   "execution_count": 60,
   "id": "3d5fe140",
   "metadata": {},
   "outputs": [
    {
     "data": {
      "text/plain": [
       "(21607, 11)"
      ]
     },
     "execution_count": 60,
     "metadata": {},
     "output_type": "execute_result"
    }
   ],
   "source": [
    "hawaii_df = hawaii_df.dropna()\n",
    "hawaii_df.shape"
   ]
  },
  {
   "cell_type": "code",
   "execution_count": null,
   "id": "7e2e6e38",
   "metadata": {},
   "outputs": [],
   "source": []
  },
  {
   "cell_type": "code",
   "execution_count": 61,
   "id": "5bfce68b",
   "metadata": {
    "scrolled": true
   },
   "outputs": [],
   "source": [
    "# Fill in the empty rows\n",
    "#hawaii_df.fillna(0)"
   ]
  },
  {
   "cell_type": "code",
   "execution_count": 62,
   "id": "42e572ae",
   "metadata": {},
   "outputs": [],
   "source": [
    "#[[column,hawaii_df[column].isnull().sum()] for column in hawaii_df.columns]"
   ]
  },
  {
   "cell_type": "code",
   "execution_count": 63,
   "id": "4cdf9766",
   "metadata": {},
   "outputs": [],
   "source": [
    "#hawaii_columns_to_keep = [column for column in hawaii_df.columns if hawaii_df[column].isnull().sum() < len(hawaii_df) * 0.9]\n",
    "#hawaii_df = hawaii_df[hawaii_columns_to_keep]\n",
    "#hawaii_df"
   ]
  },
  {
   "cell_type": "markdown",
   "id": "01bd45b4",
   "metadata": {},
   "source": [
    "## Prepare the data "
   ]
  },
  {
   "cell_type": "markdown",
   "id": "397055c2",
   "metadata": {},
   "source": [
    "Converting dollar amounts to floating number. "
   ]
  },
  {
   "cell_type": "code",
   "execution_count": 64,
   "id": "7883ed0b",
   "metadata": {},
   "outputs": [
    {
     "data": {
      "text/html": [
       "<div>\n",
       "<style scoped>\n",
       "    .dataframe tbody tr th:only-of-type {\n",
       "        vertical-align: middle;\n",
       "    }\n",
       "\n",
       "    .dataframe tbody tr th {\n",
       "        vertical-align: top;\n",
       "    }\n",
       "\n",
       "    .dataframe thead th {\n",
       "        text-align: right;\n",
       "    }\n",
       "</style>\n",
       "<table border=\"1\" class=\"dataframe\">\n",
       "  <thead>\n",
       "    <tr style=\"text-align: right;\">\n",
       "      <th></th>\n",
       "      <th>price</th>\n",
       "    </tr>\n",
       "  </thead>\n",
       "  <tbody>\n",
       "    <tr>\n",
       "      <th>0</th>\n",
       "      <td>140.0</td>\n",
       "    </tr>\n",
       "    <tr>\n",
       "      <th>1</th>\n",
       "      <td>130.0</td>\n",
       "    </tr>\n",
       "    <tr>\n",
       "      <th>2</th>\n",
       "      <td>557.0</td>\n",
       "    </tr>\n",
       "    <tr>\n",
       "      <th>4</th>\n",
       "      <td>109.0</td>\n",
       "    </tr>\n",
       "    <tr>\n",
       "      <th>5</th>\n",
       "      <td>90.0</td>\n",
       "    </tr>\n",
       "    <tr>\n",
       "      <th>...</th>\n",
       "      <td>...</td>\n",
       "    </tr>\n",
       "    <tr>\n",
       "      <th>26335</th>\n",
       "      <td>239.0</td>\n",
       "    </tr>\n",
       "    <tr>\n",
       "      <th>26337</th>\n",
       "      <td>288.0</td>\n",
       "    </tr>\n",
       "    <tr>\n",
       "      <th>26339</th>\n",
       "      <td>135.0</td>\n",
       "    </tr>\n",
       "    <tr>\n",
       "      <th>26341</th>\n",
       "      <td>199.0</td>\n",
       "    </tr>\n",
       "    <tr>\n",
       "      <th>26342</th>\n",
       "      <td>261.0</td>\n",
       "    </tr>\n",
       "  </tbody>\n",
       "</table>\n",
       "<p>21607 rows × 1 columns</p>\n",
       "</div>"
      ],
      "text/plain": [
       "       price\n",
       "0      140.0\n",
       "1      130.0\n",
       "2      557.0\n",
       "4      109.0\n",
       "5       90.0\n",
       "...      ...\n",
       "26335  239.0\n",
       "26337  288.0\n",
       "26339  135.0\n",
       "26341  199.0\n",
       "26342  261.0\n",
       "\n",
       "[21607 rows x 1 columns]"
      ]
     },
     "execution_count": 64,
     "metadata": {},
     "output_type": "execute_result"
    }
   ],
   "source": [
    "price = ['price']\n",
    "for p in price:\n",
    "    hawaii_df[p] = hawaii_df[p].str.replace(\"[$,]\", \"\").astype(\"float\")\n",
    "\n",
    "hawaii_df[price]"
   ]
  },
  {
   "cell_type": "code",
   "execution_count": null,
   "id": "42e5719b",
   "metadata": {},
   "outputs": [],
   "source": []
  },
  {
   "cell_type": "markdown",
   "id": "9c4f9eaa",
   "metadata": {},
   "source": [
    "Which neighborhood are the most popular, profitable and have more renters?"
   ]
  },
  {
   "cell_type": "code",
   "execution_count": null,
   "id": "add8f7b2",
   "metadata": {},
   "outputs": [],
   "source": []
  },
  {
   "cell_type": "code",
   "execution_count": 65,
   "id": "1c280bb5",
   "metadata": {},
   "outputs": [
    {
     "data": {
      "text/plain": [
       "Primary Urban Center     4325\n",
       "Lahaina                  3204\n",
       "Kihei-Makena             3180\n",
       "North Kona               2183\n",
       "North Shore Kauai        1316\n",
       "Koloa-Poipu              1059\n",
       "South Kohala              984\n",
       "Puna                      934\n",
       "Kapaa-Wailua              552\n",
       "Koolauloa                 517\n",
       "South Hilo                455\n",
       "Ewa                       378\n",
       "Koolaupoko                356\n",
       "North Shore Oahu          354\n",
       "South Kona                256\n",
       "Waianae                   206\n",
       "Lihue                     202\n",
       "Paia-Haiku                198\n",
       "Kau                       166\n",
       "Wailuku-Kahului           146\n",
       "East Honolulu             146\n",
       "Molokai                   136\n",
       "North Kohala               80\n",
       "Hana                       75\n",
       "Hamakua                    53\n",
       "Makawao-Pukalani-Kula      40\n",
       "North Hilo                 39\n",
       "Central Oahu               37\n",
       "Waimea-Kekaha              23\n",
       "Lanai                       7\n",
       "Name: neighbourhood_cleansed, dtype: int64"
      ]
     },
     "execution_count": 65,
     "metadata": {},
     "output_type": "execute_result"
    }
   ],
   "source": [
    "hawaii_df.neighbourhood_cleansed.value_counts()"
   ]
  },
  {
   "cell_type": "code",
   "execution_count": 66,
   "id": "516a0157",
   "metadata": {},
   "outputs": [],
   "source": [
    "#simple Linear Regression model"
   ]
  },
  {
   "cell_type": "code",
   "execution_count": 98,
   "id": "f257ab1b",
   "metadata": {},
   "outputs": [
    {
     "data": {
      "image/png": "[encoded data removed]",
      "text/plain": [
       "<Figure size 432x288 with 1 Axes>"
      ]
     },
     "metadata": {
      "needs_background": "light"
     },
     "output_type": "display_data"
    }
   ],
   "source": [
    "plt.scatter(hawaii_df.neighbourhood_cleansed, hawaii_df.price,c=\"yellow\",\n",
    "      edgecolor=\"black\", linewidths=1,\n",
    "      alpha=0.8)\n",
    "plt.xlabel('Neighbourhood')\n",
    "plt.ylabel('Price')\n",
    "plt.show()"
   ]
  },
  {
   "cell_type": "code",
   "execution_count": 68,
   "id": "321db3be",
   "metadata": {},
   "outputs": [
    {
     "data": {
      "text/html": [
       "<div>\n",
       "<style scoped>\n",
       "    .dataframe tbody tr th:only-of-type {\n",
       "        vertical-align: middle;\n",
       "    }\n",
       "\n",
       "    .dataframe tbody tr th {\n",
       "        vertical-align: top;\n",
       "    }\n",
       "\n",
       "    .dataframe thead th {\n",
       "        text-align: right;\n",
       "    }\n",
       "</style>\n",
       "<table border=\"1\" class=\"dataframe\">\n",
       "  <thead>\n",
       "    <tr style=\"text-align: right;\">\n",
       "      <th></th>\n",
       "      <th>id</th>\n",
       "      <th>neighbourhood_cleansed</th>\n",
       "      <th>latitude</th>\n",
       "      <th>longitude</th>\n",
       "      <th>room_type</th>\n",
       "      <th>amenities</th>\n",
       "      <th>price</th>\n",
       "      <th>availability_365</th>\n",
       "      <th>number_of_reviews</th>\n",
       "      <th>review_scores_rating</th>\n",
       "      <th>review_scores_location</th>\n",
       "      <th>neighbourhood</th>\n",
       "    </tr>\n",
       "  </thead>\n",
       "  <tbody>\n",
       "    <tr>\n",
       "      <th>0</th>\n",
       "      <td>5269.0</td>\n",
       "      <td>South Kohala</td>\n",
       "      <td>20.02740</td>\n",
       "      <td>-155.70200</td>\n",
       "      <td>Entire home/apt</td>\n",
       "      <td>[\"Dedicated workspace\", \"Hot water\", \"Fire ext...</td>\n",
       "      <td>140.0</td>\n",
       "      <td>121</td>\n",
       "      <td>19</td>\n",
       "      <td>4.56</td>\n",
       "      <td>5.00</td>\n",
       "      <td>25</td>\n",
       "    </tr>\n",
       "    <tr>\n",
       "      <th>1</th>\n",
       "      <td>157141.0</td>\n",
       "      <td>Koolauloa</td>\n",
       "      <td>21.58989</td>\n",
       "      <td>-157.89154</td>\n",
       "      <td>Entire home/apt</td>\n",
       "      <td>[\"Hot water\", \"Fire extinguisher\", \"Lockbox\", ...</td>\n",
       "      <td>130.0</td>\n",
       "      <td>0</td>\n",
       "      <td>335</td>\n",
       "      <td>4.54</td>\n",
       "      <td>4.66</td>\n",
       "      <td>9</td>\n",
       "    </tr>\n",
       "    <tr>\n",
       "      <th>2</th>\n",
       "      <td>162600.0</td>\n",
       "      <td>Kapaa-Wailua</td>\n",
       "      <td>22.06174</td>\n",
       "      <td>-159.32052</td>\n",
       "      <td>Entire home/apt</td>\n",
       "      <td>[\"Microwave\", \"Dryer\", \"Free parking on premis...</td>\n",
       "      <td>557.0</td>\n",
       "      <td>107</td>\n",
       "      <td>19</td>\n",
       "      <td>4.95</td>\n",
       "      <td>5.00</td>\n",
       "      <td>5</td>\n",
       "    </tr>\n",
       "    <tr>\n",
       "      <th>4</th>\n",
       "      <td>342351.0</td>\n",
       "      <td>South Kona</td>\n",
       "      <td>19.45073</td>\n",
       "      <td>-155.87281</td>\n",
       "      <td>Entire home/apt</td>\n",
       "      <td>[\"Building staff\", \"Stove\", \"Hot water\", \"Refr...</td>\n",
       "      <td>109.0</td>\n",
       "      <td>234</td>\n",
       "      <td>98</td>\n",
       "      <td>4.82</td>\n",
       "      <td>4.94</td>\n",
       "      <td>26</td>\n",
       "    </tr>\n",
       "    <tr>\n",
       "      <th>5</th>\n",
       "      <td>5387.0</td>\n",
       "      <td>South Kona</td>\n",
       "      <td>19.43081</td>\n",
       "      <td>-155.88069</td>\n",
       "      <td>Entire home/apt</td>\n",
       "      <td>[\"Dedicated workspace\", \"Dining table\", \"Hot w...</td>\n",
       "      <td>90.0</td>\n",
       "      <td>40</td>\n",
       "      <td>192</td>\n",
       "      <td>4.65</td>\n",
       "      <td>4.72</td>\n",
       "      <td>26</td>\n",
       "    </tr>\n",
       "  </tbody>\n",
       "</table>\n",
       "</div>"
      ],
      "text/plain": [
       "         id neighbourhood_cleansed  latitude  longitude        room_type  \\\n",
       "0    5269.0           South Kohala  20.02740 -155.70200  Entire home/apt   \n",
       "1  157141.0              Koolauloa  21.58989 -157.89154  Entire home/apt   \n",
       "2  162600.0           Kapaa-Wailua  22.06174 -159.32052  Entire home/apt   \n",
       "4  342351.0             South Kona  19.45073 -155.87281  Entire home/apt   \n",
       "5    5387.0             South Kona  19.43081 -155.88069  Entire home/apt   \n",
       "\n",
       "                                           amenities  price  availability_365  \\\n",
       "0  [\"Dedicated workspace\", \"Hot water\", \"Fire ext...  140.0               121   \n",
       "1  [\"Hot water\", \"Fire extinguisher\", \"Lockbox\", ...  130.0                 0   \n",
       "2  [\"Microwave\", \"Dryer\", \"Free parking on premis...  557.0               107   \n",
       "4  [\"Building staff\", \"Stove\", \"Hot water\", \"Refr...  109.0               234   \n",
       "5  [\"Dedicated workspace\", \"Dining table\", \"Hot w...   90.0                40   \n",
       "\n",
       "   number_of_reviews  review_scores_rating  review_scores_location  \\\n",
       "0                 19                  4.56                    5.00   \n",
       "1                335                  4.54                    4.66   \n",
       "2                 19                  4.95                    5.00   \n",
       "4                 98                  4.82                    4.94   \n",
       "5                192                  4.65                    4.72   \n",
       "\n",
       "   neighbourhood  \n",
       "0             25  \n",
       "1              9  \n",
       "2              5  \n",
       "4             26  \n",
       "5             26  "
      ]
     },
     "execution_count": 68,
     "metadata": {},
     "output_type": "execute_result"
    }
   ],
   "source": [
    "# Creating an instance of label encoder\n",
    "label_encoder = LabelEncoder()\n",
    "hawaii_df[\"neighbourhood\"] = label_encoder.fit_transform(hawaii_df[\"neighbourhood_cleansed\"])\n",
    "hawaii_df.head()"
   ]
  },
  {
   "cell_type": "code",
   "execution_count": 69,
   "id": "7767e8f3",
   "metadata": {},
   "outputs": [],
   "source": [
    "# neighbourhood  dictionary\n",
    "neighbourhood_num = {\n",
    "    \"Primary Urban Center\": 1,\n",
    "    \"Lahaina\": 2,              \n",
    "    \"Kihei-Makena\": 3,            \n",
    "    \"North Kona\": 4,           \n",
    "    \"North Shore Kauai\": 5,      \n",
    "    \"Koloa-Poipu\": 6,            \n",
    "    \"South Kohala\": 7,          \n",
    "    \"Puna\": 8,                  \n",
    "    \"Kapaa-Wailua\": 9,         \n",
    "    \"Koolauloa\": 10,               \n",
    "    \"South Hilo\": 11,            \n",
    "    \"Ewa\": 12,  \n",
    "    \"Koolaupoko\": 13, \n",
    "    \"North Shore Oahu\": 14,\n",
    "    \"South Kona\": 15,\n",
    "    \"Waianae\": 16,\n",
    "    \"Lihue\": 17,\n",
    "    \"Paia-Haiku\": 18,\n",
    "    \"Kau\": 19,\n",
    "    \"Wailuku-Kahului\": 20,\n",
    "    \"East Honolulu\": 21, \n",
    "    \"Molokai\": 22,\n",
    "    \"North Kohala\": 23,\n",
    "    \"Hana\": 24,\n",
    "    \"Hamakua\":25, \n",
    "    \"Makawao-Pukalani-Kula\": 26,\n",
    "    \"North Hilo\": 27,\n",
    "    \"Central Oahu\": 28,\n",
    "    \"Waimea-Kekaha\": 29,\n",
    "    \"Lanai\": 30\n",
    "}"
   ]
  },
  {
   "cell_type": "code",
   "execution_count": 70,
   "id": "ae6a386c",
   "metadata": {},
   "outputs": [
    {
     "data": {
      "text/html": [
       "<div>\n",
       "<style scoped>\n",
       "    .dataframe tbody tr th:only-of-type {\n",
       "        vertical-align: middle;\n",
       "    }\n",
       "\n",
       "    .dataframe tbody tr th {\n",
       "        vertical-align: top;\n",
       "    }\n",
       "\n",
       "    .dataframe thead th {\n",
       "        text-align: right;\n",
       "    }\n",
       "</style>\n",
       "<table border=\"1\" class=\"dataframe\">\n",
       "  <thead>\n",
       "    <tr style=\"text-align: right;\">\n",
       "      <th></th>\n",
       "      <th>id</th>\n",
       "      <th>neighbourhood_cleansed</th>\n",
       "      <th>latitude</th>\n",
       "      <th>longitude</th>\n",
       "      <th>room_type</th>\n",
       "      <th>amenities</th>\n",
       "      <th>price</th>\n",
       "      <th>availability_365</th>\n",
       "      <th>number_of_reviews</th>\n",
       "      <th>review_scores_rating</th>\n",
       "      <th>review_scores_location</th>\n",
       "      <th>neighbourhood</th>\n",
       "      <th>neighbourhood_num</th>\n",
       "    </tr>\n",
       "  </thead>\n",
       "  <tbody>\n",
       "    <tr>\n",
       "      <th>0</th>\n",
       "      <td>5269.0</td>\n",
       "      <td>South Kohala</td>\n",
       "      <td>20.02740</td>\n",
       "      <td>-155.70200</td>\n",
       "      <td>Entire home/apt</td>\n",
       "      <td>[\"Dedicated workspace\", \"Hot water\", \"Fire ext...</td>\n",
       "      <td>140.0</td>\n",
       "      <td>121</td>\n",
       "      <td>19</td>\n",
       "      <td>4.56</td>\n",
       "      <td>5.00</td>\n",
       "      <td>25</td>\n",
       "      <td>7</td>\n",
       "    </tr>\n",
       "    <tr>\n",
       "      <th>1</th>\n",
       "      <td>157141.0</td>\n",
       "      <td>Koolauloa</td>\n",
       "      <td>21.58989</td>\n",
       "      <td>-157.89154</td>\n",
       "      <td>Entire home/apt</td>\n",
       "      <td>[\"Hot water\", \"Fire extinguisher\", \"Lockbox\", ...</td>\n",
       "      <td>130.0</td>\n",
       "      <td>0</td>\n",
       "      <td>335</td>\n",
       "      <td>4.54</td>\n",
       "      <td>4.66</td>\n",
       "      <td>9</td>\n",
       "      <td>10</td>\n",
       "    </tr>\n",
       "    <tr>\n",
       "      <th>2</th>\n",
       "      <td>162600.0</td>\n",
       "      <td>Kapaa-Wailua</td>\n",
       "      <td>22.06174</td>\n",
       "      <td>-159.32052</td>\n",
       "      <td>Entire home/apt</td>\n",
       "      <td>[\"Microwave\", \"Dryer\", \"Free parking on premis...</td>\n",
       "      <td>557.0</td>\n",
       "      <td>107</td>\n",
       "      <td>19</td>\n",
       "      <td>4.95</td>\n",
       "      <td>5.00</td>\n",
       "      <td>5</td>\n",
       "      <td>9</td>\n",
       "    </tr>\n",
       "    <tr>\n",
       "      <th>4</th>\n",
       "      <td>342351.0</td>\n",
       "      <td>South Kona</td>\n",
       "      <td>19.45073</td>\n",
       "      <td>-155.87281</td>\n",
       "      <td>Entire home/apt</td>\n",
       "      <td>[\"Building staff\", \"Stove\", \"Hot water\", \"Refr...</td>\n",
       "      <td>109.0</td>\n",
       "      <td>234</td>\n",
       "      <td>98</td>\n",
       "      <td>4.82</td>\n",
       "      <td>4.94</td>\n",
       "      <td>26</td>\n",
       "      <td>15</td>\n",
       "    </tr>\n",
       "    <tr>\n",
       "      <th>5</th>\n",
       "      <td>5387.0</td>\n",
       "      <td>South Kona</td>\n",
       "      <td>19.43081</td>\n",
       "      <td>-155.88069</td>\n",
       "      <td>Entire home/apt</td>\n",
       "      <td>[\"Dedicated workspace\", \"Dining table\", \"Hot w...</td>\n",
       "      <td>90.0</td>\n",
       "      <td>40</td>\n",
       "      <td>192</td>\n",
       "      <td>4.65</td>\n",
       "      <td>4.72</td>\n",
       "      <td>26</td>\n",
       "      <td>15</td>\n",
       "    </tr>\n",
       "  </tbody>\n",
       "</table>\n",
       "</div>"
      ],
      "text/plain": [
       "         id neighbourhood_cleansed  latitude  longitude        room_type  \\\n",
       "0    5269.0           South Kohala  20.02740 -155.70200  Entire home/apt   \n",
       "1  157141.0              Koolauloa  21.58989 -157.89154  Entire home/apt   \n",
       "2  162600.0           Kapaa-Wailua  22.06174 -159.32052  Entire home/apt   \n",
       "4  342351.0             South Kona  19.45073 -155.87281  Entire home/apt   \n",
       "5    5387.0             South Kona  19.43081 -155.88069  Entire home/apt   \n",
       "\n",
       "                                           amenities  price  availability_365  \\\n",
       "0  [\"Dedicated workspace\", \"Hot water\", \"Fire ext...  140.0               121   \n",
       "1  [\"Hot water\", \"Fire extinguisher\", \"Lockbox\", ...  130.0                 0   \n",
       "2  [\"Microwave\", \"Dryer\", \"Free parking on premis...  557.0               107   \n",
       "4  [\"Building staff\", \"Stove\", \"Hot water\", \"Refr...  109.0               234   \n",
       "5  [\"Dedicated workspace\", \"Dining table\", \"Hot w...   90.0                40   \n",
       "\n",
       "   number_of_reviews  review_scores_rating  review_scores_location  \\\n",
       "0                 19                  4.56                    5.00   \n",
       "1                335                  4.54                    4.66   \n",
       "2                 19                  4.95                    5.00   \n",
       "4                 98                  4.82                    4.94   \n",
       "5                192                  4.65                    4.72   \n",
       "\n",
       "   neighbourhood  neighbourhood_num  \n",
       "0             25                  7  \n",
       "1              9                 10  \n",
       "2              5                  9  \n",
       "4             26                 15  \n",
       "5             26                 15  "
      ]
     },
     "execution_count": 70,
     "metadata": {},
     "output_type": "execute_result"
    }
   ],
   "source": [
    "# Neighbourhoods' names encoded using the dictionary values\n",
    "hawaii_df[\"neighbourhood_num\"] = hawaii_df[\"neighbourhood_cleansed\"].apply(lambda x: neighbourhood_num[x])\n",
    "hawaii_df.head()"
   ]
  },
  {
   "cell_type": "code",
   "execution_count": 71,
   "id": "74f31f3a",
   "metadata": {},
   "outputs": [
    {
     "data": {
      "text/html": [
       "<div>\n",
       "<style scoped>\n",
       "    .dataframe tbody tr th:only-of-type {\n",
       "        vertical-align: middle;\n",
       "    }\n",
       "\n",
       "    .dataframe tbody tr th {\n",
       "        vertical-align: top;\n",
       "    }\n",
       "\n",
       "    .dataframe thead th {\n",
       "        text-align: right;\n",
       "    }\n",
       "</style>\n",
       "<table border=\"1\" class=\"dataframe\">\n",
       "  <thead>\n",
       "    <tr style=\"text-align: right;\">\n",
       "      <th></th>\n",
       "      <th>id</th>\n",
       "      <th>neighbourhood_cleansed</th>\n",
       "      <th>latitude</th>\n",
       "      <th>longitude</th>\n",
       "      <th>room_type</th>\n",
       "      <th>amenities</th>\n",
       "      <th>price</th>\n",
       "      <th>availability_365</th>\n",
       "      <th>number_of_reviews</th>\n",
       "      <th>review_scores_rating</th>\n",
       "      <th>review_scores_location</th>\n",
       "      <th>neighbourhood_num</th>\n",
       "    </tr>\n",
       "  </thead>\n",
       "  <tbody>\n",
       "    <tr>\n",
       "      <th>0</th>\n",
       "      <td>5269.0</td>\n",
       "      <td>South Kohala</td>\n",
       "      <td>20.02740</td>\n",
       "      <td>-155.70200</td>\n",
       "      <td>Entire home/apt</td>\n",
       "      <td>[\"Dedicated workspace\", \"Hot water\", \"Fire ext...</td>\n",
       "      <td>140.0</td>\n",
       "      <td>121</td>\n",
       "      <td>19</td>\n",
       "      <td>4.56</td>\n",
       "      <td>5.00</td>\n",
       "      <td>7</td>\n",
       "    </tr>\n",
       "    <tr>\n",
       "      <th>1</th>\n",
       "      <td>157141.0</td>\n",
       "      <td>Koolauloa</td>\n",
       "      <td>21.58989</td>\n",
       "      <td>-157.89154</td>\n",
       "      <td>Entire home/apt</td>\n",
       "      <td>[\"Hot water\", \"Fire extinguisher\", \"Lockbox\", ...</td>\n",
       "      <td>130.0</td>\n",
       "      <td>0</td>\n",
       "      <td>335</td>\n",
       "      <td>4.54</td>\n",
       "      <td>4.66</td>\n",
       "      <td>10</td>\n",
       "    </tr>\n",
       "    <tr>\n",
       "      <th>2</th>\n",
       "      <td>162600.0</td>\n",
       "      <td>Kapaa-Wailua</td>\n",
       "      <td>22.06174</td>\n",
       "      <td>-159.32052</td>\n",
       "      <td>Entire home/apt</td>\n",
       "      <td>[\"Microwave\", \"Dryer\", \"Free parking on premis...</td>\n",
       "      <td>557.0</td>\n",
       "      <td>107</td>\n",
       "      <td>19</td>\n",
       "      <td>4.95</td>\n",
       "      <td>5.00</td>\n",
       "      <td>9</td>\n",
       "    </tr>\n",
       "    <tr>\n",
       "      <th>4</th>\n",
       "      <td>342351.0</td>\n",
       "      <td>South Kona</td>\n",
       "      <td>19.45073</td>\n",
       "      <td>-155.87281</td>\n",
       "      <td>Entire home/apt</td>\n",
       "      <td>[\"Building staff\", \"Stove\", \"Hot water\", \"Refr...</td>\n",
       "      <td>109.0</td>\n",
       "      <td>234</td>\n",
       "      <td>98</td>\n",
       "      <td>4.82</td>\n",
       "      <td>4.94</td>\n",
       "      <td>15</td>\n",
       "    </tr>\n",
       "    <tr>\n",
       "      <th>5</th>\n",
       "      <td>5387.0</td>\n",
       "      <td>South Kona</td>\n",
       "      <td>19.43081</td>\n",
       "      <td>-155.88069</td>\n",
       "      <td>Entire home/apt</td>\n",
       "      <td>[\"Dedicated workspace\", \"Dining table\", \"Hot w...</td>\n",
       "      <td>90.0</td>\n",
       "      <td>40</td>\n",
       "      <td>192</td>\n",
       "      <td>4.65</td>\n",
       "      <td>4.72</td>\n",
       "      <td>15</td>\n",
       "    </tr>\n",
       "  </tbody>\n",
       "</table>\n",
       "</div>"
      ],
      "text/plain": [
       "         id neighbourhood_cleansed  latitude  longitude        room_type  \\\n",
       "0    5269.0           South Kohala  20.02740 -155.70200  Entire home/apt   \n",
       "1  157141.0              Koolauloa  21.58989 -157.89154  Entire home/apt   \n",
       "2  162600.0           Kapaa-Wailua  22.06174 -159.32052  Entire home/apt   \n",
       "4  342351.0             South Kona  19.45073 -155.87281  Entire home/apt   \n",
       "5    5387.0             South Kona  19.43081 -155.88069  Entire home/apt   \n",
       "\n",
       "                                           amenities  price  availability_365  \\\n",
       "0  [\"Dedicated workspace\", \"Hot water\", \"Fire ext...  140.0               121   \n",
       "1  [\"Hot water\", \"Fire extinguisher\", \"Lockbox\", ...  130.0                 0   \n",
       "2  [\"Microwave\", \"Dryer\", \"Free parking on premis...  557.0               107   \n",
       "4  [\"Building staff\", \"Stove\", \"Hot water\", \"Refr...  109.0               234   \n",
       "5  [\"Dedicated workspace\", \"Dining table\", \"Hot w...   90.0                40   \n",
       "\n",
       "   number_of_reviews  review_scores_rating  review_scores_location  \\\n",
       "0                 19                  4.56                    5.00   \n",
       "1                335                  4.54                    4.66   \n",
       "2                 19                  4.95                    5.00   \n",
       "4                 98                  4.82                    4.94   \n",
       "5                192                  4.65                    4.72   \n",
       "\n",
       "   neighbourhood_num  \n",
       "0                  7  \n",
       "1                 10  \n",
       "2                  9  \n",
       "4                 15  \n",
       "5                 15  "
      ]
     },
     "execution_count": 71,
     "metadata": {},
     "output_type": "execute_result"
    }
   ],
   "source": [
    "# Drop the neighbourhood columns\n",
    "hawaii_df = hawaii_df.drop([\"neighbourhood\"], axis=1)\n",
    "hawaii_df.head()"
   ]
  },
  {
   "cell_type": "code",
   "execution_count": 89,
   "id": "952dc3e8",
   "metadata": {},
   "outputs": [
    {
     "data": {
      "text/plain": [
       "array([[ 7],\n",
       "       [10],\n",
       "       [ 9],\n",
       "       [15],\n",
       "       [15]])"
      ]
     },
     "execution_count": 89,
     "metadata": {},
     "output_type": "execute_result"
    }
   ],
   "source": [
    "X = hawaii_df.neighbourhood_num.values.reshape(-1, 1)\n",
    "X[:5]"
   ]
  },
  {
   "cell_type": "code",
   "execution_count": 90,
   "id": "2389d809",
   "metadata": {},
   "outputs": [
    {
     "data": {
      "text/plain": [
       "(21607, 1)"
      ]
     },
     "execution_count": 90,
     "metadata": {},
     "output_type": "execute_result"
    }
   ],
   "source": [
    "X.shape"
   ]
  },
  {
   "cell_type": "code",
   "execution_count": 91,
   "id": "47c851dc",
   "metadata": {},
   "outputs": [],
   "source": [
    "y = hawaii_df.price"
   ]
  },
  {
   "cell_type": "code",
   "execution_count": 92,
   "id": "4d03563b",
   "metadata": {},
   "outputs": [
    {
     "name": "stdout",
     "output_type": "stream",
     "text": [
      "(21607,)\n"
     ]
    }
   ],
   "source": [
    "model = LinearRegression()\n",
    "model.fit(X, y)\n",
    "y_pred = model.predict(X)\n",
    "print(y_pred.shape)"
   ]
  },
  {
   "cell_type": "code",
   "execution_count": 93,
   "id": "22c60814",
   "metadata": {},
   "outputs": [
    {
     "data": {
      "image/png": "[encoded data removed]",
      "text/plain": [
       "<Figure size 432x288 with 1 Axes>"
      ]
     },
     "metadata": {
      "needs_background": "light"
     },
     "output_type": "display_data"
    }
   ],
   "source": [
    "plt.scatter(X, y)\n",
    "plt.plot(X, y_pred, color='red')\n",
    "plt.show()"
   ]
  },
  {
   "cell_type": "code",
   "execution_count": 95,
   "id": "83857d54",
   "metadata": {},
   "outputs": [],
   "source": [
    "# Use train_test_split to create training and testing data.\n",
    "from sklearn.model_selection import train_test_split\n",
    "X_train, X_test, y_train, y_test = train_test_split(X, y, random_state=42)\n",
    "# Create the model by using LinearRegression.\n",
    "model = LinearRegression()"
   ]
  },
  {
   "cell_type": "code",
   "execution_count": 96,
   "id": "8e76554b",
   "metadata": {},
   "outputs": [
    {
     "name": "stdout",
     "output_type": "stream",
     "text": [
      "Training Score: 0.0009450629289164958\n",
      "Testing Score: 0.0010031766683167298\n"
     ]
    }
   ],
   "source": [
    "# Fit the model to the training data, and calculate the scores for the training and testing data.\n",
    "model.fit(X_train, y_train)\n",
    "training_score = model.score(X_train, y_train)\n",
    "testing_score = model.score(X_test, y_test)\n",
    "print(f\"Training Score: {training_score}\")\n",
    "print(f\"Testing Score: {testing_score}\")"
   ]
  },
  {
   "cell_type": "code",
   "execution_count": null,
   "id": "98607b0e",
   "metadata": {},
   "outputs": [],
   "source": []
  },
  {
   "cell_type": "code",
   "execution_count": null,
   "id": "2cc5422f",
   "metadata": {},
   "outputs": [],
   "source": []
  },
  {
   "cell_type": "code",
   "execution_count": 75,
   "id": "ad4c0b8f",
   "metadata": {},
   "outputs": [],
   "source": [
    "# map"
   ]
  },
  {
   "cell_type": "markdown",
   "id": "7f48e1aa",
   "metadata": {},
   "source": [
    "Which room type is the most popular type?"
   ]
  },
  {
   "cell_type": "code",
   "execution_count": 76,
   "id": "2c26e8dd",
   "metadata": {},
   "outputs": [],
   "source": [
    "# heatmap "
   ]
  },
  {
   "cell_type": "code",
   "execution_count": null,
   "id": "cc24d146",
   "metadata": {},
   "outputs": [],
   "source": []
  },
  {
   "cell_type": "markdown",
   "id": "b7bf6b48",
   "metadata": {},
   "source": [
    "What are the most important characteristics of listing to attract more customers and influence the price?"
   ]
  },
  {
   "cell_type": "code",
   "execution_count": null,
   "id": "762415a9",
   "metadata": {},
   "outputs": [],
   "source": []
  },
  {
   "cell_type": "code",
   "execution_count": 77,
   "id": "6657ea5a",
   "metadata": {},
   "outputs": [],
   "source": [
    "# wordcloud "
   ]
  },
  {
   "cell_type": "code",
   "execution_count": 78,
   "id": "66712b02",
   "metadata": {},
   "outputs": [
    {
     "data": {
      "text/html": [
       "<div>\n",
       "<style scoped>\n",
       "    .dataframe tbody tr th:only-of-type {\n",
       "        vertical-align: middle;\n",
       "    }\n",
       "\n",
       "    .dataframe tbody tr th {\n",
       "        vertical-align: top;\n",
       "    }\n",
       "\n",
       "    .dataframe thead th {\n",
       "        text-align: right;\n",
       "    }\n",
       "</style>\n",
       "<table border=\"1\" class=\"dataframe\">\n",
       "  <thead>\n",
       "    <tr style=\"text-align: right;\">\n",
       "      <th></th>\n",
       "      <th>listing_id</th>\n",
       "      <th>id</th>\n",
       "      <th>date</th>\n",
       "      <th>reviewer_id</th>\n",
       "      <th>reviewer_name</th>\n",
       "      <th>comments</th>\n",
       "    </tr>\n",
       "  </thead>\n",
       "  <tbody>\n",
       "    <tr>\n",
       "      <th>0</th>\n",
       "      <td>23726706.0</td>\n",
       "      <td>2.467709e+08</td>\n",
       "      <td>3/26/18</td>\n",
       "      <td>158582130</td>\n",
       "      <td>Camilla</td>\n",
       "      <td>Nice place, nice connection to amsterdam, we e...</td>\n",
       "    </tr>\n",
       "    <tr>\n",
       "      <th>1</th>\n",
       "      <td>23726706.0</td>\n",
       "      <td>2.480112e+08</td>\n",
       "      <td>3/30/18</td>\n",
       "      <td>11198871</td>\n",
       "      <td>Peter</td>\n",
       "      <td>Sehr Empfehlenswert! Alles sauber und ordentli...</td>\n",
       "    </tr>\n",
       "    <tr>\n",
       "      <th>2</th>\n",
       "      <td>23726706.0</td>\n",
       "      <td>2.488338e+08</td>\n",
       "      <td>4/1/18</td>\n",
       "      <td>155953524</td>\n",
       "      <td>Ayme</td>\n",
       "      <td>Una Excelente estancia en casa de Patricia y s...</td>\n",
       "    </tr>\n",
       "    <tr>\n",
       "      <th>3</th>\n",
       "      <td>23726706.0</td>\n",
       "      <td>2.514893e+08</td>\n",
       "      <td>4/8/18</td>\n",
       "      <td>175511774</td>\n",
       "      <td>Hannah</td>\n",
       "      <td>Patricia's room was exactly like the pictures ...</td>\n",
       "    </tr>\n",
       "    <tr>\n",
       "      <th>4</th>\n",
       "      <td>23726706.0</td>\n",
       "      <td>2.537105e+08</td>\n",
       "      <td>4/15/18</td>\n",
       "      <td>178502934</td>\n",
       "      <td>Elen</td>\n",
       "      <td>Made our visit 300% more pleasant and easier.....</td>\n",
       "    </tr>\n",
       "    <tr>\n",
       "      <th>...</th>\n",
       "      <td>...</td>\n",
       "      <td>...</td>\n",
       "      <td>...</td>\n",
       "      <td>...</td>\n",
       "      <td>...</td>\n",
       "      <td>...</td>\n",
       "    </tr>\n",
       "    <tr>\n",
       "      <th>313339</th>\n",
       "      <td>40575103.0</td>\n",
       "      <td>6.098980e+17</td>\n",
       "      <td>4/21/22</td>\n",
       "      <td>349584702</td>\n",
       "      <td>Alexandra</td>\n",
       "      <td>Accueil chaleureux de la part de Quirien &lt;br/&gt;...</td>\n",
       "    </tr>\n",
       "    <tr>\n",
       "      <th>313340</th>\n",
       "      <td>40575103.0</td>\n",
       "      <td>6.185920e+17</td>\n",
       "      <td>5/3/22</td>\n",
       "      <td>55531279</td>\n",
       "      <td>Faisal</td>\n",
       "      <td>.</td>\n",
       "    </tr>\n",
       "    <tr>\n",
       "      <th>313341</th>\n",
       "      <td>40575103.0</td>\n",
       "      <td>6.222650e+17</td>\n",
       "      <td>5/8/22</td>\n",
       "      <td>340488171</td>\n",
       "      <td>Bilge Eda</td>\n",
       "      <td>The host is very welcoming. She was able to he...</td>\n",
       "    </tr>\n",
       "    <tr>\n",
       "      <th>313342</th>\n",
       "      <td>40575103.0</td>\n",
       "      <td>6.272790e+17</td>\n",
       "      <td>5/15/22</td>\n",
       "      <td>192927056</td>\n",
       "      <td>Aaron</td>\n",
       "      <td>Great, clean apartment with ample space. The h...</td>\n",
       "    </tr>\n",
       "    <tr>\n",
       "      <th>313343</th>\n",
       "      <td>40575103.0</td>\n",
       "      <td>6.316140e+17</td>\n",
       "      <td>5/21/22</td>\n",
       "      <td>122623055</td>\n",
       "      <td>Rajendra</td>\n",
       "      <td>Clean and cosy room with attached shower and s...</td>\n",
       "    </tr>\n",
       "  </tbody>\n",
       "</table>\n",
       "<p>313344 rows × 6 columns</p>\n",
       "</div>"
      ],
      "text/plain": [
       "        listing_id            id     date  reviewer_id reviewer_name  \\\n",
       "0       23726706.0  2.467709e+08  3/26/18    158582130       Camilla   \n",
       "1       23726706.0  2.480112e+08  3/30/18     11198871         Peter   \n",
       "2       23726706.0  2.488338e+08   4/1/18    155953524          Ayme   \n",
       "3       23726706.0  2.514893e+08   4/8/18    175511774        Hannah   \n",
       "4       23726706.0  2.537105e+08  4/15/18    178502934          Elen   \n",
       "...            ...           ...      ...          ...           ...   \n",
       "313339  40575103.0  6.098980e+17  4/21/22    349584702     Alexandra   \n",
       "313340  40575103.0  6.185920e+17   5/3/22     55531279        Faisal   \n",
       "313341  40575103.0  6.222650e+17   5/8/22    340488171     Bilge Eda   \n",
       "313342  40575103.0  6.272790e+17  5/15/22    192927056         Aaron   \n",
       "313343  40575103.0  6.316140e+17  5/21/22    122623055      Rajendra   \n",
       "\n",
       "                                                 comments  \n",
       "0       Nice place, nice connection to amsterdam, we e...  \n",
       "1       Sehr Empfehlenswert! Alles sauber und ordentli...  \n",
       "2       Una Excelente estancia en casa de Patricia y s...  \n",
       "3       Patricia's room was exactly like the pictures ...  \n",
       "4       Made our visit 300% more pleasant and easier.....  \n",
       "...                                                   ...  \n",
       "313339  Accueil chaleureux de la part de Quirien <br/>...  \n",
       "313340                                                  .  \n",
       "313341  The host is very welcoming. She was able to he...  \n",
       "313342  Great, clean apartment with ample space. The h...  \n",
       "313343  Clean and cosy room with attached shower and s...  \n",
       "\n",
       "[313344 rows x 6 columns]"
      ]
     },
     "execution_count": 78,
     "metadata": {},
     "output_type": "execute_result"
    }
   ],
   "source": [
    "reviews_df = pd.read_csv('reviews_1.csv')\n",
    "reviews_df"
   ]
  },
  {
   "cell_type": "code",
   "execution_count": 79,
   "id": "6a8b948a",
   "metadata": {},
   "outputs": [],
   "source": [
    "reviews_df.drop(columns = [\"listing_id\", \"reviewer_id\", \"reviewer_name\", \"comments\"], inplace = True)"
   ]
  },
  {
   "cell_type": "code",
   "execution_count": 80,
   "id": "951ea903",
   "metadata": {},
   "outputs": [],
   "source": [
    "reviews_df.drop_duplicates(inplace=True)"
   ]
  },
  {
   "cell_type": "code",
   "execution_count": 81,
   "id": "4aa021a1",
   "metadata": {},
   "outputs": [
    {
     "data": {
      "text/html": [
       "<div>\n",
       "<style scoped>\n",
       "    .dataframe tbody tr th:only-of-type {\n",
       "        vertical-align: middle;\n",
       "    }\n",
       "\n",
       "    .dataframe tbody tr th {\n",
       "        vertical-align: top;\n",
       "    }\n",
       "\n",
       "    .dataframe thead th {\n",
       "        text-align: right;\n",
       "    }\n",
       "</style>\n",
       "<table border=\"1\" class=\"dataframe\">\n",
       "  <thead>\n",
       "    <tr style=\"text-align: right;\">\n",
       "      <th></th>\n",
       "      <th>id</th>\n",
       "      <th>date</th>\n",
       "    </tr>\n",
       "  </thead>\n",
       "  <tbody>\n",
       "    <tr>\n",
       "      <th>0</th>\n",
       "      <td>246770863.0</td>\n",
       "      <td>3/26/18</td>\n",
       "    </tr>\n",
       "    <tr>\n",
       "      <th>1</th>\n",
       "      <td>248011183.0</td>\n",
       "      <td>3/30/18</td>\n",
       "    </tr>\n",
       "    <tr>\n",
       "      <th>2</th>\n",
       "      <td>248833758.0</td>\n",
       "      <td>4/1/18</td>\n",
       "    </tr>\n",
       "    <tr>\n",
       "      <th>3</th>\n",
       "      <td>251489252.0</td>\n",
       "      <td>4/8/18</td>\n",
       "    </tr>\n",
       "    <tr>\n",
       "      <th>4</th>\n",
       "      <td>253710522.0</td>\n",
       "      <td>4/15/18</td>\n",
       "    </tr>\n",
       "  </tbody>\n",
       "</table>\n",
       "</div>"
      ],
      "text/plain": [
       "            id     date\n",
       "0  246770863.0  3/26/18\n",
       "1  248011183.0  3/30/18\n",
       "2  248833758.0   4/1/18\n",
       "3  251489252.0   4/8/18\n",
       "4  253710522.0  4/15/18"
      ]
     },
     "execution_count": 81,
     "metadata": {},
     "output_type": "execute_result"
    }
   ],
   "source": [
    "reviews_df.head(5)"
   ]
  },
  {
   "cell_type": "code",
   "execution_count": 82,
   "id": "56d02286",
   "metadata": {},
   "outputs": [
    {
     "data": {
      "text/plain": [
       "id             float64\n",
       "date    datetime64[ns]\n",
       "dtype: object"
      ]
     },
     "execution_count": 82,
     "metadata": {},
     "output_type": "execute_result"
    }
   ],
   "source": [
    "reviews_df['date'] = pd.to_datetime(reviews_df['date'])\n",
    "reviews_df.dtypes"
   ]
  },
  {
   "cell_type": "markdown",
   "id": "40b124e7",
   "metadata": {},
   "source": [
    "What time during a year is the busiest?"
   ]
  },
  {
   "cell_type": "markdown",
   "id": "c282be7b",
   "metadata": {},
   "source": [
    "What time should property maintenance be done?"
   ]
  },
  {
   "cell_type": "markdown",
   "id": "ff858873",
   "metadata": {},
   "source": [
    "Is there a \"peak\" season?"
   ]
  },
  {
   "cell_type": "code",
   "execution_count": 83,
   "id": "bc2c41d2",
   "metadata": {},
   "outputs": [],
   "source": [
    "# groupby"
   ]
  },
  {
   "cell_type": "markdown",
   "id": "3c94f70a",
   "metadata": {},
   "source": [
    "Does weather play a factor in desirability?"
   ]
  },
  {
   "cell_type": "code",
   "execution_count": 84,
   "id": "36604359",
   "metadata": {},
   "outputs": [],
   "source": [
    "# API"
   ]
  },
  {
   "cell_type": "code",
   "execution_count": null,
   "id": "33d8cb62",
   "metadata": {},
   "outputs": [],
   "source": []
  },
  {
   "cell_type": "markdown",
   "id": "522526a8",
   "metadata": {},
   "source": [
    "## Connect to the AWS RDS instance and write each DataFrame to its table"
   ]
  },
  {
   "cell_type": "code",
   "execution_count": 85,
   "id": "3d7f4744",
   "metadata": {},
   "outputs": [
    {
     "name": "stdout",
     "output_type": "stream",
     "text": [
      "Enter database password········\n"
     ]
    }
   ],
   "source": [
    "# Store environmental variable\n",
    "from getpass import getpass\n",
    "password = getpass('Enter database password')"
   ]
  },
  {
   "cell_type": "code",
   "execution_count": 88,
   "id": "e51e3874",
   "metadata": {},
   "outputs": [],
   "source": [
    "# Configure settings for RDS\n",
    "mode = \"append\"\n",
    "jdbc_url=\"jdbc:postgresql://hawaii-airbnb.c5hzvxbldmyx.us-east-1.rds.amazonaws.com:5432/hawaii\"\n",
    "config = {\"user\":\"postgres\", \n",
    "          \"password\":password, \n",
    "          \"driver\":\"org.postgresql.Driver\"}"
   ]
  },
  {
   "cell_type": "code",
   "execution_count": null,
   "id": "05c39755",
   "metadata": {},
   "outputs": [],
   "source": []
  },
  {
   "cell_type": "code",
   "execution_count": 87,
   "id": "710dd044",
   "metadata": {},
   "outputs": [
    {
     "ename": "AttributeError",
     "evalue": "'DataFrame' object has no attribute 'write'",
     "output_type": "error",
     "traceback": [
      "\u001b[0;31m---------------------------------------------------------------------------\u001b[0m",
      "\u001b[0;31mAttributeError\u001b[0m                            Traceback (most recent call last)",
      "\u001b[0;32m/var/folders/5y/3py7d8sn1sl8l838c77m8wxr0000gn/T/ipykernel_30170/1664973456.py\u001b[0m in \u001b[0;36m<module>\u001b[0;34m\u001b[0m\n\u001b[1;32m      1\u001b[0m \u001b[0;31m# Write reviews_df to table in RDS\u001b[0m\u001b[0;34m\u001b[0m\u001b[0;34m\u001b[0m\u001b[0;34m\u001b[0m\u001b[0m\n\u001b[0;32m----> 2\u001b[0;31m \u001b[0mreviews_df\u001b[0m\u001b[0;34m.\u001b[0m\u001b[0mwrite\u001b[0m\u001b[0;34m.\u001b[0m\u001b[0mjdbc\u001b[0m\u001b[0;34m(\u001b[0m\u001b[0murl\u001b[0m\u001b[0;34m=\u001b[0m\u001b[0mjdbc_url\u001b[0m\u001b[0;34m,\u001b[0m \u001b[0mtable\u001b[0m\u001b[0;34m=\u001b[0m\u001b[0;34m'reviews_table'\u001b[0m\u001b[0;34m,\u001b[0m \u001b[0mmode\u001b[0m\u001b[0;34m=\u001b[0m\u001b[0mmode\u001b[0m\u001b[0;34m,\u001b[0m \u001b[0mproperties\u001b[0m\u001b[0;34m=\u001b[0m\u001b[0mconfig\u001b[0m\u001b[0;34m)\u001b[0m\u001b[0;34m\u001b[0m\u001b[0;34m\u001b[0m\u001b[0m\n\u001b[0m",
      "\u001b[0;32m/opt/anaconda3/envs/mlenv/lib/python3.7/site-packages/pandas/core/generic.py\u001b[0m in \u001b[0;36m__getattr__\u001b[0;34m(self, name)\u001b[0m\n\u001b[1;32m   5485\u001b[0m         ):\n\u001b[1;32m   5486\u001b[0m             \u001b[0;32mreturn\u001b[0m \u001b[0mself\u001b[0m\u001b[0;34m[\u001b[0m\u001b[0mname\u001b[0m\u001b[0;34m]\u001b[0m\u001b[0;34m\u001b[0m\u001b[0;34m\u001b[0m\u001b[0m\n\u001b[0;32m-> 5487\u001b[0;31m         \u001b[0;32mreturn\u001b[0m \u001b[0mobject\u001b[0m\u001b[0;34m.\u001b[0m\u001b[0m__getattribute__\u001b[0m\u001b[0;34m(\u001b[0m\u001b[0mself\u001b[0m\u001b[0;34m,\u001b[0m \u001b[0mname\u001b[0m\u001b[0;34m)\u001b[0m\u001b[0;34m\u001b[0m\u001b[0;34m\u001b[0m\u001b[0m\n\u001b[0m\u001b[1;32m   5488\u001b[0m \u001b[0;34m\u001b[0m\u001b[0m\n\u001b[1;32m   5489\u001b[0m     \u001b[0;32mdef\u001b[0m \u001b[0m__setattr__\u001b[0m\u001b[0;34m(\u001b[0m\u001b[0mself\u001b[0m\u001b[0;34m,\u001b[0m \u001b[0mname\u001b[0m\u001b[0;34m:\u001b[0m \u001b[0mstr\u001b[0m\u001b[0;34m,\u001b[0m \u001b[0mvalue\u001b[0m\u001b[0;34m)\u001b[0m \u001b[0;34m->\u001b[0m \u001b[0;32mNone\u001b[0m\u001b[0;34m:\u001b[0m\u001b[0;34m\u001b[0m\u001b[0;34m\u001b[0m\u001b[0m\n",
      "\u001b[0;31mAttributeError\u001b[0m: 'DataFrame' object has no attribute 'write'"
     ]
    }
   ],
   "source": [
    "# Write reviews_df to table in RDS\n",
    "reviews_df.write.jdbc(url=jdbc_url, table='reviews_table', mode=mode, properties=config)"
   ]
  },
  {
   "cell_type": "code",
   "execution_count": null,
   "id": "8c77fa9b",
   "metadata": {},
   "outputs": [],
   "source": [
    "# Write hawaii_df to table in RDS\n",
    "hawaii_df.write.jdbc(url=jdbc_url, table='hawaii_table', mode=mode, properties=config)"
   ]
  },
  {
   "cell_type": "code",
   "execution_count": null,
   "id": "f2e5ea08",
   "metadata": {},
   "outputs": [],
   "source": []
  }
 ],
 "metadata": {
  "kernelspec": {
   "display_name": "mlenv",
   "language": "python",
   "name": "mlenv"
  },
  "language_info": {
   "codemirror_mode": {
    "name": "ipython",
    "version": 3
   },
   "file_extension": ".py",
   "mimetype": "text/x-python",
   "name": "python",
   "nbconvert_exporter": "python",
   "pygments_lexer": "ipython3",
   "version": "3.7.13"
  }
 },
 "nbformat": 4,
 "nbformat_minor": 5
}
